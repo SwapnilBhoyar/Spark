{
 "cells": [
  {
   "cell_type": "code",
   "execution_count": 2,
   "source": [
    "'''\n",
    "@Author: Swapnil Bhoyar\n",
    "@Date: 2021-08-16\n",
    "@Last Modified by: Swapnil Bhoyar\n",
    "@Last Modified time: 2021-08-16\n",
    "@Title : Program to count the number of times a word is repeated\n",
    "'''\n",
    "import findspark\n",
    "from pyspark.sql import SparkSession\n",
    "from Log import logger\n",
    "def word_count():\n",
    "    \"\"\"\n",
    "    Description:\n",
    "        Program to count the number of times a word is repeated\n",
    "    \"\"\"\n",
    "    try:\n",
    "        findspark.init()\n",
    "        spark = SparkSession.builder.master(\"local\").appName('Firstprogram').getOrCreate()\n",
    "        sc=spark.sparkContext\n",
    "        text_file = sc.textFile(\"input.txt\")\n",
    "        counts = text_file.flatMap(lambda line: line.split(\" \")).map(lambda word: (word, 1)).reduceByKey(lambda x, y: x + y)\n",
    "        output = counts.collect()\n",
    "        for (word, count) in output:\n",
    "            print(\"%s: %i\" % (word, count))\n",
    "        sc.stop()\n",
    "        spark.stop()\n",
    "    except Exception as e:\n",
    "        logger.info(e)\n",
    "\n",
    "\n",
    "if __name__==\"__main__\":\n",
    "    word_count()"
   ],
   "outputs": [
    {
     "output_type": "stream",
     "name": "stderr",
     "text": [
      "21/08/17 01:39:20 WARN Utils: Service 'SparkUI' could not bind on port 4040. Attempting port 4041.\n"
     ]
    },
    {
     "output_type": "stream",
     "name": "stdout",
     "text": [
      "swapnil: 2\n",
      "himanshu: 2\n",
      "aditya: 1\n"
     ]
    }
   ],
   "metadata": {}
  }
 ],
 "metadata": {
  "orig_nbformat": 4,
  "language_info": {
   "name": "python",
   "version": "3.8.10",
   "mimetype": "text/x-python",
   "codemirror_mode": {
    "name": "ipython",
    "version": 3
   },
   "pygments_lexer": "ipython3",
   "nbconvert_exporter": "python",
   "file_extension": ".py"
  },
  "kernelspec": {
   "name": "python3",
   "display_name": "Python 3.8.10 64-bit"
  },
  "interpreter": {
   "hash": "31f2aee4e71d21fbe5cf8b01ff0e069b9275f58929596ceb00d14d90e3e16cd6"
  }
 },
 "nbformat": 4,
 "nbformat_minor": 2
}